{
 "cells": [
  {
   "cell_type": "code",
   "execution_count": null,
   "metadata": {},
   "outputs": [],
   "source": [
    "from __future__ import absolute_import, division, print_function, unicode_literals\n",
    "import os\n",
    "import tensorflow as tf\n",
    "import numpy as np\n",
    "import matplotlib.pyplot as plt\n",
    "import sys\n"
   ]
  },
  {
   "cell_type": "code",
   "execution_count": null,
   "metadata": {},
   "outputs": [],
   "source": []
  },
  {
   "cell_type": "code",
   "execution_count": null,
   "metadata": {},
   "outputs": [],
   "source": [
    "\n",
    "# ARGV\n",
    "MACHINE = \"GPUs\"#str(sys.argv[1])\n",
    "BATCHING = 2000#int(sys.argv[2])\n",
    "SYSTEM_SIZE = 4#int(sys.argv[3])\n",
    "COUPLING = 0.5000#float(sys.argv[4])\n",
    "SHIFT = 6.28#float(sys.argv[])\n",
    "FEET = 1000#int(sys.argv[])\n",
    "DT = 0.005#float(sys.argv[])\n",
    "LENGTH_IN = 200#int(sys.argv[5])\n",
    "DIM = int(2 * SYSTEM_SIZE)\n",
    "LENGTH_TEST = 5000#int(0.025 * LENGTH_MAX)#int(sys.argv[])\n",
    "LABEL = 1#int(sys.argv[6])\n",
    "MAX_EPOCH = 2 #int(sys.argv[7])\n",
    "TRIAL = 1 #int(sys.argv[8])\n",
    "\n",
    "\n",
    "\n"
   ]
  },
  {
   "cell_type": "code",
   "execution_count": null,
   "metadata": {},
   "outputs": [],
   "source": []
  },
  {
   "cell_type": "code",
   "execution_count": null,
   "metadata": {},
   "outputs": [],
   "source": []
  },
  {
   "cell_type": "code",
   "execution_count": null,
   "metadata": {},
   "outputs": [],
   "source": [
    "\n",
    "dir_root = '/pds/pds151/ckj/MLKM/MLKM_Tracer_5/saves/'\n",
    "dir_save = '/pds/pds151/ckj/MLKM/MLKM_Tracer_5/saves/N{N:d}K{K:0.4f}L{L:d}/'\n",
    "\n",
    "if not os.path.exists(dir_root):\n",
    "    os.mkdir(dir_root)\n",
    "if not os.path.exists(dir_save.format(N = SYSTEM_SIZE, K = COUPLING, L = LENGTH_IN)):\n",
    "    os.mkdir(dir_save.format(N = SYSTEM_SIZE, K = COUPLING, L = LENGTH_IN))\n"
   ]
  },
  {
   "cell_type": "code",
   "execution_count": null,
   "metadata": {},
   "outputs": [],
   "source": []
  },
  {
   "cell_type": "code",
   "execution_count": null,
   "metadata": {},
   "outputs": [],
   "source": [
    "\n",
    "def ann(label):\n",
    "    input = tf.keras.Input(shape = (DIM * LENGTH_IN,), dtype = tf.float32)\n",
    "\n",
    "    if label == 1:\n",
    "        x = tf.keras.layers.Dense(2 * DIM, activation = tf.keras.activations.tanh)(input)\n",
    "        x = tf.keras.layers.Dense(2 * DIM, activation = tf.keras.activations.tanh)(x)\n",
    "        x = tf.keras.layers.Dense(2 * DIM, activation = tf.keras.activations.tanh)(x)\n",
    "        x = tf.keras.layers.Dense(2 * DIM, activation = tf.keras.activations.tanh)(x)\n",
    "    elif label == 2:\n",
    "        x = tf.keras.layers.Reshape((LENGTH_IN, DIM,), input_shape=(DIM * LENGTH_IN,))(input)\n",
    "        x = tf.keras.layers.Conv1D(2 * DIM, 2, activation = tf.keras.activations.tanh)(x)\n",
    "        x = tf.keras.layers.Conv1D(2 * DIM, 2, activation = tf.keras.activations.tanh)(x)\n",
    "        x = tf.keras.layers.Flatten()(x)\n",
    "        x = tf.keras.layers.Dense(2 * DIM, activation = tf.keras.activations.tanh)(x)\n",
    "        x = tf.keras.layers.Dense(2 * DIM, activation = tf.keras.activations.tanh)(x)\n",
    "    elif label == 3:\n",
    "        x = tf.keras.layers.Reshape((LENGTH_IN, SYSTEM_SIZE, 2,), input_shape=(DIM * LENGTH_IN,))(input)\n",
    "        x = tf.keras.layers.Conv2D(2 * DIM, (3, 2), activation = tf.keras.activations.tanh)(x)\n",
    "        x = tf.keras.layers.Conv2D(2 * DIM, (3, 2), activation = tf.keras.activations.tanh)(x)\n",
    "        x = tf.keras.layers.Flatten()(x)\n",
    "        x = tf.keras.layers.Dense(2 * DIM, activation = tf.keras.activations.tanh)(x)\n",
    "        x = tf.keras.layers.Dense(2 * DIM, activation = tf.keras.activations.tanh)(x)\n",
    "    elif label == 4:\n",
    "        x = tf.keras.layers.Reshape((LENGTH_IN, DIM,), input_shape=(DIM * LENGTH_IN,))(input)\n",
    "        x = tf.keras.layers.LSTM(2 * DIM)(x)\n",
    "    elif label == 5:\n",
    "        x = tf.keras.layers.Reshape((LENGTH_IN, DIM,), input_shape=(DIM * LENGTH_IN,))(input)\n",
    "        x = tf.keras.layers.LSTM(2 * DIM, return_sequences = True)(x)\n",
    "        x = tf.keras.layers.LSTM(2 * DIM)(x)\n",
    "\n",
    "        \n",
    "    output = tf.keras.layers.Dense(DIM, activation=tf.keras.activations.linear)(x)\n",
    "\n",
    "    model = tf.keras.Model(input, output)\n",
    "    model.compile(optimizer = tf.keras.optimizers.RMSprop(learning_rate=1e-4), loss = tf.keras.losses.mean_squared_error)\n",
    "\n",
    "    return model\n"
   ]
  },
  {
   "cell_type": "code",
   "execution_count": null,
   "metadata": {},
   "outputs": [],
   "source": []
  },
  {
   "cell_type": "code",
   "execution_count": null,
   "metadata": {},
   "outputs": [],
   "source": []
  },
  {
   "cell_type": "code",
   "execution_count": null,
   "metadata": {},
   "outputs": [],
   "source": [
    "#parameters depends on machine\n",
    "if MACHINE == 'GPUs':\n",
    "    os.environ[\"CUDA_VISIBLE_DEVICES\"] = \"1,2,3\"\n",
    "    strategy = tf.distribute.MirroredStrategy()\n",
    "    # strategy = tf.distribute.MirroredStrategy(cross_device_ops=tf.distribute.HierarchicalCopyAllReduce())\n",
    "    # strategy = tf.distribute.MirroredStrategy(cross_device_ops=tf.distribute.ReductionToOneDevice())\n",
    "    BATCH_SIZE_REP = BATCHING\n",
    "    BATCH_SIZE = BATCH_SIZE_REP * strategy.num_replicas_in_sync\n",
    "    SHUFFLE_BUFFER_SIZE = BATCH_SIZE * 4\n",
    "    def make_model(label):\n",
    "        with strategy.scope():\n",
    "            return ann(label)\n",
    "elif MACHINE == 'CPUs':\n",
    "    BATCH_SIZE = BATCHING\n",
    "    SHUFFLE_BUFFER_SIZE = BATCH_SIZE * 4\n",
    "    os.environ[\"CUDA_VISIBLE_DEVICES\"] = \"-1\"\n",
    "    def make_model(label):\n",
    "        return ann(label)\n",
    "elif MACHINE == 'GPU':\n",
    "    BATCH_SIZE = BATCHING\n",
    "    SHUFFLE_BUFFER_SIZE = BATCH_SIZE * 4\n",
    "    def make_model(label):\n",
    "        return ann(label)\n",
    "else:\n",
    "    print(\"Select MACHINE : CPUs/GPUs/GPU\")\n",
    "    raise SystemExit\n"
   ]
  },
  {
   "cell_type": "code",
   "execution_count": null,
   "metadata": {},
   "outputs": [],
   "source": []
  },
  {
   "cell_type": "code",
   "execution_count": null,
   "metadata": {},
   "outputs": [],
   "source": []
  },
  {
   "cell_type": "code",
   "execution_count": null,
   "metadata": {},
   "outputs": [],
   "source": [
    "file = '/pds/pds121/KMML/train_prediction/Phaset_w{w:0.2f}_N{N:d}_K{K:0.4f}_ft{ft:d}_dt{dt:0.3f}_E{e:d}.dat'\n"
   ]
  },
  {
   "cell_type": "code",
   "execution_count": null,
   "metadata": {},
   "outputs": [],
   "source": []
  },
  {
   "cell_type": "code",
   "execution_count": null,
   "metadata": {},
   "outputs": [],
   "source": []
  },
  {
   "cell_type": "code",
   "execution_count": null,
   "metadata": {},
   "outputs": [],
   "source": [
    "\n",
    "def make_batch(low, high, batch_size):\n",
    "    data = np.loadtxt(file.format(N = SYSTEM_SIZE, K = COUPLING, w = SHIFT, ft = FEET, dt = DT, e = 1))    \n",
    "    images = np.zeros((batch_size, DIM * LENGTH_IN), dtype=np.float32)\n",
    "    labels = np.zeros((batch_size, DIM), dtype=np.float32)\n",
    "    shuffle = np.random.randint(low, high, batch_size)\n",
    "\n",
    "    for i in np.arange(batch_size):\n",
    "        images[i] = np.reshape(data[shuffle[i]:shuffle[i] + LENGTH_IN], (DIM * LENGTH_IN))\n",
    "        labels[i] = data[shuffle[i] + LENGTH_IN]\n",
    "\n",
    "    dataset_images = tf.data.Dataset.from_tensor_slices(images)\n",
    "    dataset_labels = tf.data.Dataset.from_tensor_slices(labels)\n",
    "\n",
    "    dataset =  tf.data.Dataset.zip((dataset_images, dataset_labels))\n",
    "    dataset = dataset.batch(batch_size, drop_remainder = True).prefetch(buffer_size = tf.data.experimental.AUTOTUNE)\n",
    "  \n",
    "    return dataset\n"
   ]
  },
  {
   "cell_type": "code",
   "execution_count": null,
   "metadata": {},
   "outputs": [],
   "source": []
  },
  {
   "cell_type": "code",
   "execution_count": null,
   "metadata": {},
   "outputs": [],
   "source": []
  },
  {
   "cell_type": "code",
   "execution_count": null,
   "metadata": {},
   "outputs": [],
   "source": [
    "struct = '/pds/pds151/ckj/MLKM/MLKM_Tracer_5/saves/N{N:d}K{K:0.4f}L{L:d}/Tracer_{label:d}_struct.png'\n"
   ]
  },
  {
   "cell_type": "code",
   "execution_count": null,
   "metadata": {},
   "outputs": [],
   "source": []
  },
  {
   "cell_type": "code",
   "execution_count": null,
   "metadata": {},
   "outputs": [],
   "source": [
    "model = make_model(LABEL)"
   ]
  },
  {
   "cell_type": "code",
   "execution_count": null,
   "metadata": {},
   "outputs": [],
   "source": []
  },
  {
   "cell_type": "code",
   "execution_count": null,
   "metadata": {},
   "outputs": [],
   "source": [
    "tf.keras.utils.plot_model(model, to_file = struct.format(N = SYSTEM_SIZE, K = COUPLING, L = LENGTH_IN, label = LABEL), show_shapes = True, show_layer_names = False, rankdir = 'LR')\n"
   ]
  },
  {
   "cell_type": "code",
   "execution_count": null,
   "metadata": {},
   "outputs": [],
   "source": []
  },
  {
   "cell_type": "code",
   "execution_count": null,
   "metadata": {},
   "outputs": [],
   "source": [
    "VALID_INI = 180001\n",
    "VALID_END = 190000\n",
    "VALID_SIZE = VALID_END - VALID_INI + 1\n",
    "TRAIN_INI = 1\n",
    "TRAIN_END = 180000\n",
    "TRAIN_SIZE = TRAIN_END - TRAIN_INI + 1"
   ]
  },
  {
   "cell_type": "code",
   "execution_count": null,
   "metadata": {},
   "outputs": [],
   "source": []
  },
  {
   "cell_type": "code",
   "execution_count": null,
   "metadata": {},
   "outputs": [],
   "source": [
    "history_pdf = '/pds/pds151/ckj/MLKM/MLKM_Tracer_5/saves/N{N:d}K{K:0.4f}L{L:d}/Tracer_{label:d}_history_{trial:d}.pdf'\n",
    "history_dat = '/pds/pds151/ckj/MLKM/MLKM_Tracer_5/saves/N{N:d}K{K:0.4f}L{L:d}/Tracer_{label:d}_history_{trial:d}.dat'\n",
    "save = '/pds/pds151/ckj/MLKM/MLKM_Tracer_5/saves/N{N:d}K{K:0.4f}L{L:d}/Tracer_{label:d}_save_{trial:d}'\n",
    "if not os.path.exists(save.format(N = SYSTEM_SIZE, K = COUPLING, L = LENGTH_IN, label = LABEL, trial = TRIAL)):\n",
    "    os.mkdir(save.format(N = SYSTEM_SIZE, K = COUPLING, L = LENGTH_IN, label = LABEL, trial = TRIAL))\n"
   ]
  },
  {
   "cell_type": "code",
   "execution_count": null,
   "metadata": {},
   "outputs": [],
   "source": [
    "def plot_history(hist, filename):\n",
    "    plt.clf()\n",
    "    plt.xlabel('Epoch')\n",
    "    plt.ylabel('loss')\n",
    "    plt.plot(hist[:,0], label='Train')\n",
    "    plt.plot(hist[:,1], label = 'Validation')\n",
    "    plt.legend()\n",
    "    plt.tight_layout()\n",
    "    plt.savefig(filename)\n"
   ]
  },
  {
   "cell_type": "code",
   "execution_count": null,
   "metadata": {},
   "outputs": [],
   "source": [
    "model.compile(optimizer = tf.keras.optimizers.RMSprop(), loss = tf.keras.losses.mean_squared_error)\n"
   ]
  },
  {
   "cell_type": "code",
   "execution_count": null,
   "metadata": {},
   "outputs": [],
   "source": [
    "# hist = []\n",
    "for epoch in np.arange(10):\n",
    "# for epoch in np.arange(MAX_EPOCH):\n",
    "    for i in np.arange(int(TRAIN_SIZE / BATCH_SIZE)):\n",
    "        dataset_valid = make_batch(VALID_INI - 1, VALID_END, int(1.0 * BATCH_SIZE * VALID_SIZE / TRAIN_SIZE))\n",
    "        dataset_train = make_batch(TRAIN_INI - 1, TRAIN_END, BATCH_SIZE)\n",
    "        history = model.fit(dataset_train, verbose = 0, epochs = 1, validation_data = dataset_valid, validation_steps = 1)\n",
    "    hist = np.append(hist, [history.history['loss'], history.history['val_loss']])\n",
    "hist = np.reshape(hist, (-1, 2))\n",
    "\n",
    "        "
   ]
  },
  {
   "cell_type": "code",
   "execution_count": null,
   "metadata": {},
   "outputs": [],
   "source": [
    "\n",
    "model.save(save.format(N = SYSTEM_SIZE, L = LENGTH_IN, K = COUPLING, label = LABEL, trial = TRIAL))\n",
    "\n",
    "plot_history(hist, history_pdf.format(N = SYSTEM_SIZE, K = COUPLING, L = LENGTH_IN, label = LABEL, trial = TRIAL))\n",
    "\n",
    "np.savetxt(history_dat.format(N = SYSTEM_SIZE, K = COUPLING, L = LENGTH_IN, label = LABEL, trial = TRIAL), hist, fmt = \"%f\")\n",
    "\n"
   ]
  },
  {
   "cell_type": "code",
   "execution_count": null,
   "metadata": {},
   "outputs": [],
   "source": []
  },
  {
   "cell_type": "code",
   "execution_count": null,
   "metadata": {},
   "outputs": [],
   "source": [
    "\n",
    "def test_same_init(offset, length_test):\n",
    "\n",
    "    data = np.loadtxt(file.format(N = SYSTEM_SIZE, K = COUPLING, w = SHIFT, ft = FEET, dt = DT, e = 1))\n",
    "    test_output = np.zeros((length_test, DIM), dtype=np.float32)\n",
    "\n",
    "    test_image = data[offset:offset + LENGTH_IN]\n",
    "    for i in np.arange(length_test):\n",
    "\n",
    "        test_output[i] = model.predict(np.reshape(test_image, (1, DIM * LENGTH_IN)))[0]\n",
    "        test_image = np.delete(test_image, 0, 0)\n",
    "        test_image = np.append(test_image, np.reshape(test_output[i], (1, DIM)), axis=0)\n",
    "        \n",
    "\n",
    "    output_dat = '/pds/pds151/ckj/MLKM/MLKM_Tracer_5/saves/N{N:d}K{K:0.4f}L{L:d}/Tracer_{label:d}_{offset:d}_{length:d}_output_same_{trial:d}.dat'\n",
    "    np.savetxt(output_dat.format(N = SYSTEM_SIZE, K = COUPLING, L = LENGTH_IN, label = LABEL, offset = offset, length = length_test, trial = TRIAL), test_output, fmt = \"%f\")\n",
    "\n",
    "    fig = plt.figure(figsize=(10,6))\n",
    "    plt.subplot(3,1,1)\n",
    "    plt.xlabel('t')\n",
    "    plt.ylabel('x,y')\n",
    "    plt.pcolor(data[offset:offset + LENGTH_IN + length_test].T, vmin = -1, vmax = 1, cmap='Spectral')\n",
    "    plt.colorbar()\n",
    "    plt.tight_layout\n",
    "\n",
    "\n",
    "    plt.subplot(3,1,2)\n",
    "    plt.xlabel('t')\n",
    "    plt.ylabel('x,y')\n",
    "    plt.pcolor(np.append(data[offset:offset + LENGTH_IN], test_output, axis = 0).T, vmin = -1, vmax = 1, cmap='Spectral')\n",
    "    plt.colorbar()\n",
    "    plt.tight_layout\n",
    "\n",
    "\n",
    "    plt.subplot(3,1,3)\n",
    "    plt.xlabel('t')\n",
    "    plt.ylabel('x,y')\n",
    "    plt.pcolor(data[offset:offset + LENGTH_IN + length_test].T - np.append(data[offset:offset + LENGTH_IN], test_output, axis = 0).T, vmin = -2, vmax = 2, cmap='Spectral')\n",
    "    plt.colorbar()\n",
    "    plt.tight_layout\n",
    "\n",
    "    output_pdf = '/pds/pds151/ckj/MLKM/MLKM_Tracer_5/saves/N{N:d}K{K:0.4f}L{L:d}/Tracer_{label:d}_{offset:d}_{length:d}_output_same_{trial:d}.pdf'\n",
    "    plt.savefig(output_pdf.format(N = SYSTEM_SIZE, K = COUPLING, L = LENGTH_IN, label = LABEL, offset = offset, length = length_test, trial = TRIAL))\n",
    "\n",
    "\n"
   ]
  },
  {
   "cell_type": "code",
   "execution_count": null,
   "metadata": {},
   "outputs": [],
   "source": []
  },
  {
   "cell_type": "code",
   "execution_count": null,
   "metadata": {},
   "outputs": [],
   "source": []
  },
  {
   "cell_type": "code",
   "execution_count": null,
   "metadata": {},
   "outputs": [],
   "source": [
    "\n",
    "def test_diff_init(offset, length_test):\n",
    "\n",
    "    data = np.loadtxt(file.format(N = SYSTEM_SIZE, K = COUPLING, w = SHIFT, ft = FEET, dt = DT, e = 2))\n",
    "    test_output = np.zeros((length_test, DIM), dtype=np.float32)\n",
    "\n",
    "    test_image = data[offset:offset + LENGTH_IN]\n",
    "    for i in np.arange(length_test):\n",
    "        test_output[i] = model.predict(np.reshape(test_image, (1, DIM * LENGTH_IN)))[0]\n",
    "        test_image = np.delete(test_image, 0, 0)\n",
    "        test_image = np.append(test_image, np.reshape(test_output[i], (1, DIM)), axis=0)\n",
    "        \n",
    "\n",
    "    output_dat = '/pds/pds151/ckj/MLKM/MLKM_Tracer_5/saves/N{N:d}K{K:0.4f}L{L:d}/Tracer_{label:d}_{offset:d}_{length:d}_output_diff_{trial:d}.dat'\n",
    "    np.savetxt(output_dat.format(N = SYSTEM_SIZE, K = COUPLING, L = LENGTH_IN, label = LABEL, offset = offset, length = length_test, trial = TRIAL), test_output, fmt = \"%f\")\n",
    "\n",
    "    fig = plt.figure(figsize=(10,6))\n",
    "    plt.subplot(3,1,1)\n",
    "    plt.xlabel('t')\n",
    "    plt.ylabel('x,y')\n",
    "    plt.pcolor(data[offset:offset + LENGTH_IN + length_test].T, vmin = -1, vmax = 1, cmap='Spectral')\n",
    "    plt.colorbar()\n",
    "    plt.tight_layout\n",
    "\n",
    "\n",
    "    plt.subplot(3,1,2)\n",
    "    plt.xlabel('t')\n",
    "    plt.ylabel('x,y')\n",
    "    plt.pcolor(np.append(data[offset:offset + LENGTH_IN], test_output, axis = 0).T, vmin = -1, vmax = 1, cmap='Spectral')\n",
    "    plt.colorbar()\n",
    "    plt.tight_layout\n",
    "\n",
    "\n",
    "    plt.subplot(3,1,3)\n",
    "    plt.xlabel('t')\n",
    "    plt.ylabel('x,y')\n",
    "    plt.pcolor(data[offset:offset + LENGTH_IN + length_test].T - np.append(data[offset:offset + LENGTH_IN], test_output, axis = 0).T, vmin = -2, vmax = 2, cmap='Spectral')\n",
    "    plt.colorbar()\n",
    "    plt.tight_layout\n",
    "\n",
    "    output_pdf = '/pds/pds151/ckj/MLKM/MLKM_Tracer_5/saves/N{N:d}K{K:0.4f}L{L:d}/Tracer_{label:d}_{offset:d}_{length:d}_output_diff_{trial:d}.pdf'\n",
    "    plt.savefig(output_pdf.format(N = SYSTEM_SIZE, K = COUPLING, L = LENGTH_IN, label = LABEL, offset = offset, length = length_test, trial = TRIAL))\n",
    "\n",
    "\n"
   ]
  },
  {
   "cell_type": "code",
   "execution_count": null,
   "metadata": {},
   "outputs": [],
   "source": [
    "\n",
    "def test_diff_coupling(offset, length_test):\n",
    "\n",
    "    data = np.loadtxt('/pds/pds121/KMML/train_prediction/Phaset_w6.28_N4_K1.2000_ft1000_dt0.005_1.dat')\n",
    "    test_output = np.zeros((length_test, DIM), dtype=np.float32)\n",
    "\n",
    "    test_image = data[offset:offset + LENGTH_IN]\n",
    "    for i in np.arange(length_test):\n",
    "        test_output[i] = model.predict(np.reshape(test_image, (1, DIM * LENGTH_IN)))[0]\n",
    "        test_image = np.delete(test_image, 0, 0)\n",
    "        test_image = np.append(test_image, np.reshape(test_output[i], (1, DIM)), axis=0)\n",
    "        \n",
    "\n",
    "    output_dat = '/pds/pds151/ckj/MLKM/MLKM_Tracer_5/saves/N{N:d}K{K:0.4f}L{L:d}/Tracer_{label:d}_{offset:d}_{length:d}_output_diff_{trial:d}.dat'\n",
    "    np.savetxt(output_dat.format(N = SYSTEM_SIZE, K = COUPLING, L = LENGTH_IN, label = LABEL, offset = offset, length = length_test, trial = TRIAL), test_output, fmt = \"%f\")\n",
    "\n",
    "    fig = plt.figure(figsize=(10,6))\n",
    "    plt.subplot(3,1,1)\n",
    "    plt.xlabel('t')\n",
    "    plt.ylabel('x,y')\n",
    "    plt.pcolor(data[offset:offset + LENGTH_IN + length_test].T, vmin = -1, vmax = 1, cmap='Spectral')\n",
    "    plt.colorbar()\n",
    "    plt.tight_layout\n",
    "\n",
    "\n",
    "    plt.subplot(3,1,2)\n",
    "    plt.xlabel('t')\n",
    "    plt.ylabel('x,y')\n",
    "    plt.pcolor(np.append(data[offset:offset + LENGTH_IN], test_output, axis = 0).T, vmin = -1, vmax = 1, cmap='Spectral')\n",
    "    plt.colorbar()\n",
    "    plt.tight_layout\n",
    "\n",
    "\n",
    "    plt.subplot(3,1,3)\n",
    "    plt.xlabel('t')\n",
    "    plt.ylabel('x,y')\n",
    "    plt.pcolor(data[offset:offset + LENGTH_IN + length_test].T - np.append(data[offset:offset + LENGTH_IN], test_output, axis = 0).T, vmin = -2, vmax = 2, cmap='Spectral')\n",
    "    plt.colorbar()\n",
    "    plt.tight_layout\n",
    "\n",
    "    output_pdf = '/pds/pds151/ckj/MLKM/MLKM_Tracer_5/saves/N{N:d}K{K:0.4f}L{L:d}/Tracer_{label:d}_{offset:d}_{length:d}_output_diff_{trial:d}.pdf'\n",
    "    plt.savefig(output_pdf.format(N = SYSTEM_SIZE, K = COUPLING, L = LENGTH_IN, label = LABEL, offset = offset, length = length_test, trial = TRIAL))\n",
    "\n",
    "\n"
   ]
  },
  {
   "cell_type": "code",
   "execution_count": null,
   "metadata": {},
   "outputs": [],
   "source": [
    "\n",
    "def test_diff_natural(offset, length_test):\n",
    "\n",
    "    data = np.loadtxt('/pds/pds121/KMML/train_prediction/Phaset_w6.28_N4_K0.5000_ft1000_dt0.005_1.dat')\n",
    "    test_output = np.zeros((length_test, DIM), dtype=np.float32)\n",
    "\n",
    "    test_image = data[offset:offset + LENGTH_IN]\n",
    "    for i in np.arange(length_test):\n",
    "        test_output[i] = model.predict(np.reshape(test_image, (1, DIM * LENGTH_IN)))[0]\n",
    "        test_image = np.delete(test_image, 0, 0)\n",
    "        test_image = np.append(test_image, np.reshape(test_output[i], (1, DIM)), axis=0)\n",
    "        \n",
    "\n",
    "    output_dat = '/pds/pds151/ckj/MLKM/MLKM_Tracer_5/saves/N{N:d}K{K:0.4f}L{L:d}/Tracer_{label:d}_{offset:d}_{length:d}_output_diff_{trial:d}.dat'\n",
    "    np.savetxt(output_dat.format(N = SYSTEM_SIZE, K = COUPLING, L = LENGTH_IN, label = LABEL, offset = offset, length = length_test, trial = TRIAL), test_output, fmt = \"%f\")\n",
    "\n",
    "    fig = plt.figure(figsize=(10,6))\n",
    "    plt.subplot(3,1,1)\n",
    "    plt.xlabel('t')\n",
    "    plt.ylabel('x,y')\n",
    "    plt.pcolor(data[offset:offset + LENGTH_IN + length_test].T, vmin = -1, vmax = 1, cmap='Spectral')\n",
    "    plt.colorbar()\n",
    "    plt.tight_layout\n",
    "\n",
    "\n",
    "    plt.subplot(3,1,2)\n",
    "    plt.xlabel('t')\n",
    "    plt.ylabel('x,y')\n",
    "    plt.pcolor(np.append(data[offset:offset + LENGTH_IN], test_output, axis = 0).T, vmin = -1, vmax = 1, cmap='Spectral')\n",
    "    plt.colorbar()\n",
    "    plt.tight_layout\n",
    "\n",
    "\n",
    "    plt.subplot(3,1,3)\n",
    "    plt.xlabel('t')\n",
    "    plt.ylabel('x,y')\n",
    "    plt.pcolor(data[offset:offset + LENGTH_IN + length_test].T - np.append(data[offset:offset + LENGTH_IN], test_output, axis = 0).T, vmin = -2, vmax = 2, cmap='Spectral')\n",
    "    plt.colorbar()\n",
    "    plt.tight_layout\n",
    "\n",
    "    output_pdf = '/pds/pds151/ckj/MLKM/MLKM_Tracer_5/saves/N{N:d}K{K:0.4f}L{L:d}/Tracer_{label:d}_{offset:d}_{length:d}_output_diff_{trial:d}.pdf'\n",
    "    plt.savefig(output_pdf.format(N = SYSTEM_SIZE, K = COUPLING, L = LENGTH_IN, label = LABEL, offset = offset, length = length_test, trial = TRIAL))\n"
   ]
  },
  {
   "cell_type": "code",
   "execution_count": null,
   "metadata": {},
   "outputs": [],
   "source": []
  },
  {
   "cell_type": "code",
   "execution_count": null,
   "metadata": {},
   "outputs": [],
   "source": [
    "# test_same_init(0, LENGTH_TEST)\n",
    "# test_same_init(190000, LENGTH_TEST)\n",
    "# test_diff_init(0, LENGTH_TEST)\n",
    "# test_diff_init(100000, LENGTH_TEST)"
   ]
  },
  {
   "cell_type": "code",
   "execution_count": null,
   "metadata": {},
   "outputs": [],
   "source": []
  },
  {
   "cell_type": "code",
   "execution_count": null,
   "metadata": {},
   "outputs": [],
   "source": [
    "LENGTH_TEST = 400\n",
    "test_same_init(0, LENGTH_TEST)"
   ]
  },
  {
   "cell_type": "code",
   "execution_count": null,
   "metadata": {},
   "outputs": [],
   "source": [
    "test_same_init(190000, LENGTH_TEST)"
   ]
  },
  {
   "cell_type": "code",
   "execution_count": null,
   "metadata": {},
   "outputs": [],
   "source": [
    "test_diff_init(0, LENGTH_TEST)"
   ]
  },
  {
   "cell_type": "code",
   "execution_count": null,
   "metadata": {},
   "outputs": [],
   "source": [
    "test_diff_init(190000, LENGTH_TEST)"
   ]
  },
  {
   "cell_type": "code",
   "execution_count": null,
   "metadata": {},
   "outputs": [],
   "source": [
    "test_diff_coupling(0, LENGTH_TEST)"
   ]
  },
  {
   "cell_type": "code",
   "execution_count": null,
   "metadata": {},
   "outputs": [],
   "source": [
    "test_diff_coupling(190000, LENGTH_TEST)"
   ]
  },
  {
   "cell_type": "code",
   "execution_count": null,
   "metadata": {},
   "outputs": [],
   "source": [
    "test_diff_natural(0, LENGTH_TEST)"
   ]
  },
  {
   "cell_type": "code",
   "execution_count": null,
   "metadata": {},
   "outputs": [],
   "source": [
    "test_diff_natural(190000, LENGTH_TEST)"
   ]
  },
  {
   "cell_type": "code",
   "execution_count": null,
   "metadata": {},
   "outputs": [],
   "source": []
  },
  {
   "cell_type": "code",
   "execution_count": null,
   "metadata": {},
   "outputs": [],
   "source": []
  },
  {
   "cell_type": "code",
   "execution_count": null,
   "metadata": {},
   "outputs": [],
   "source": []
  },
  {
   "cell_type": "code",
   "execution_count": null,
   "metadata": {},
   "outputs": [],
   "source": []
  },
  {
   "cell_type": "code",
   "execution_count": null,
   "metadata": {},
   "outputs": [],
   "source": []
  },
  {
   "cell_type": "code",
   "execution_count": null,
   "metadata": {},
   "outputs": [],
   "source": []
  },
  {
   "cell_type": "code",
   "execution_count": null,
   "metadata": {},
   "outputs": [],
   "source": []
  },
  {
   "cell_type": "code",
   "execution_count": null,
   "metadata": {},
   "outputs": [],
   "source": []
  },
  {
   "cell_type": "code",
   "execution_count": null,
   "metadata": {},
   "outputs": [],
   "source": []
  },
  {
   "cell_type": "code",
   "execution_count": null,
   "metadata": {},
   "outputs": [],
   "source": []
  }
 ],
 "metadata": {
  "kernelspec": {
   "display_name": "Python 3",
   "language": "python",
   "name": "python3"
  },
  "language_info": {
   "codemirror_mode": {
    "name": "ipython",
    "version": 3
   },
   "file_extension": ".py",
   "mimetype": "text/x-python",
   "name": "python",
   "nbconvert_exporter": "python",
   "pygments_lexer": "ipython3",
   "version": "3.7.4"
  }
 },
 "nbformat": 4,
 "nbformat_minor": 4
}
