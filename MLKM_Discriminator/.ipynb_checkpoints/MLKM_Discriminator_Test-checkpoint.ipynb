{
 "cells": [
  {
   "cell_type": "markdown",
   "metadata": {},
   "source": [
    "# Intro."
   ]
  },
  {
   "cell_type": "markdown",
   "metadata": {},
   "source": [
    "## Import library"
   ]
  },
  {
   "cell_type": "code",
   "execution_count": 1,
   "metadata": {},
   "outputs": [],
   "source": [
    "from __future__ import absolute_import, division, print_function, unicode_literals\n",
    "import os\n",
    "import tensorflow as tf\n",
    "import numpy as np\n",
    "import pandas as pd\n",
    "import matplotlib.pyplot as plt\n",
    "import sys\n",
    "\n",
    "# import matplotlib.animation as animation\n",
    "# from IPython.display import HTML\n"
   ]
  },
  {
   "cell_type": "markdown",
   "metadata": {},
   "source": [
    "## Set hyper parameter and model parameters"
   ]
  },
  {
   "cell_type": "code",
   "execution_count": 2,
   "metadata": {},
   "outputs": [],
   "source": [
    "# ARGV\n",
    "MACHINE = \"CPUs\" #GPUs,CPUs,GPU #str(sys.argv[1])\n",
    "BATCHING = 100 #int(sys.argv[2])\n",
    "LENGTH = 100 #int(sys.argv[3])\n",
    "LABEL = 0 #int(sys.argv[4])\n",
    "KC = 1.0000 #float(sys.argv[5])\n",
    "KC_MIN = 0.7000 #float(sys.argv[6])\n",
    "KC_MAX = 1.5000 #float(sys.argv[7])\n",
    "\n"
   ]
  },
  {
   "cell_type": "markdown",
   "metadata": {},
   "source": [
    "## Set working dictionary"
   ]
  },
  {
   "cell_type": "code",
   "execution_count": 3,
   "metadata": {},
   "outputs": [],
   "source": [
    "PATH = \"/pds/pds151/ckj/MLKM/MLKM_Discriminator\""
   ]
  },
  {
   "cell_type": "code",
   "execution_count": 4,
   "metadata": {},
   "outputs": [],
   "source": [
    "dir_root = '{path}/saves'\n",
    "dir_save = '{path}/saves/N{N:d}'\n",
    "\n",
    "if not os.path.exists(dir_root.format(path = PATH)):\n",
    "    os.mkdir(dir_root.format(path = PATH))\n",
    "if not os.path.exists(dir_save.format(path = PATH, N = LENGTH)):\n",
    "    os.mkdir(dir_save.format(path = PATH, N = LENGTH))\n",
    "\n"
   ]
  },
  {
   "cell_type": "markdown",
   "metadata": {},
   "source": [
    "---\n",
    "# Make Neural Network"
   ]
  },
  {
   "cell_type": "markdown",
   "metadata": {},
   "source": [
    "## Modeling"
   ]
  },
  {
   "cell_type": "code",
   "execution_count": 5,
   "metadata": {},
   "outputs": [],
   "source": [
    "def ann(length, label):\n",
    "    input = tf.keras.Input(shape = (length,), dtype = tf.float32)\n",
    "    x = tf.math.cos(input)\n",
    "    y = tf.math.sin(input)\n",
    "    z = tf.keras.layers.Concatenate(axis = 1)([x, y])\n",
    "\n",
    "    if label == 0:\n",
    "        z = tf.keras.layers.Dense(128, activation = tf.keras.activations.tanh)(z)\n",
    "        z = tf.keras.layers.BatchNormalization()(z)\n",
    "        z = tf.keras.layers.Dense(128, activation = tf.keras.activations.tanh)(z)\n",
    "        z = tf.keras.layers.BatchNormalization()(z)\n",
    "        z = tf.keras.layers.Dense(128, activation = tf.keras.activations.tanh)(z)\n",
    "        z = tf.keras.layers.BatchNormalization()(z)\n",
    "\n",
    "        \n",
    "        \n",
    "        \n",
    "    output = tf.keras.layers.Dense(2, activation=tf.keras.activations.softmax)(z)\n",
    "        \n",
    "    model = tf.keras.Model(input, output)\n",
    "    model.compile(optimizer = tf.keras.optimizers.RMSprop(learning_rate=1e-5), loss = tf.keras.losses.binary_crossentropy, metrics = ['accuracy'])\n",
    "    return model\n"
   ]
  },
  {
   "cell_type": "markdown",
   "metadata": {},
   "source": [
    "## Tune batching depended on machine"
   ]
  },
  {
   "cell_type": "code",
   "execution_count": 6,
   "metadata": {},
   "outputs": [],
   "source": [
    "if MACHINE == 'GPUs':\n",
    "    strategy = tf.distribute.MirroredStrategy(cross_device_ops=tf.distribute.HierarchicalCopyAllReduce())\n",
    "    BATCH_SIZE_REP = BATCHING\n",
    "    BATCH_SIZE = BATCH_SIZE_REP * strategy.num_replicas_in_sync\n",
    "    SHUFFLE_BUFFER_SIZE = BATCH_SIZE * 4\n",
    "    def make_model(length, label):\n",
    "        with strategy.scope():\n",
    "            return ann(length, label)\n",
    "elif MACHINE == 'CPUs' or MACHINE == 'GPU':\n",
    "    BATCH_SIZE = BATCHING\n",
    "    SHUFFLE_BUFFER_SIZE = BATCH_SIZE * 4\n",
    "    def make_model(length, label):\n",
    "        return ann(length, label)\n",
    "else:\n",
    "    print(\"Select MACHINE : CPUs/GPUs/GPU\")\n",
    "    raise SystemExit\n"
   ]
  },
  {
   "cell_type": "markdown",
   "metadata": {},
   "source": [
    "---\n",
    "# Prepare dataset\n",
    "- dynamics of Kuramoto model\n",
    "- Shapshot of oscillators $\\{\\theta_{i}\\}$ in steady-state.\n",
    "- Use tf.data.Dataset\n"
   ]
  },
  {
   "cell_type": "markdown",
   "metadata": {},
   "source": [
    "## list up images and labels"
   ]
  },
  {
   "cell_type": "code",
   "execution_count": 7,
   "metadata": {},
   "outputs": [],
   "source": [
    "file_image = '/pds/pds121/KMML/phase_snapshot/N{N:d}/Phase_snapshot_N{N:d}_K{K:0.4f}_{e:d}.dat'\n",
    "def list_of_file_image(Kmin, Kmax, emin, emax):\n",
    "    list = []\n",
    "    for e in np.arange(emin, emax + 1):\n",
    "        for K in np.arange(Kmin, Kmax + 0.0050, 0.0100):\n",
    "            list.append(file_image.format(N = LENGTH, K = K, e = e))\n",
    "    return list\n",
    "\n",
    "file_label = '/pds/pds121/ckj/KMML/phase_snapshot/Phase_snapshot_K{K:0.4f}_{e:d}.label'\n",
    "def list_of_file_label(Kmin, Kmax, emin, emax):\n",
    "    list = []\n",
    "    for e in np.arange(emin, emax + 1):\n",
    "        for K in np.arange(Kmin, Kmax + 0.0050, 0.0100):\n",
    "            list.append(file_label.format(K = K, e = e))\n",
    "    return list\n",
    "\n"
   ]
  },
  {
   "cell_type": "markdown",
   "metadata": {},
   "source": [
    "## Make dataset for train"
   ]
  },
  {
   "cell_type": "code",
   "execution_count": 8,
   "metadata": {},
   "outputs": [],
   "source": [
    "def make_dataset_train(size_of_ensemble, Kc, Kcmin, Kcmax, emin, emax):\n",
    "    list_of_image = []\n",
    "    list_of_label = []\n",
    "    list_of_image += list_of_file_image(0.0100, Kcmin, emin, emax)\n",
    "    list_of_image += list_of_file_image(Kcmax, 2.2000, emin, emax)\n",
    "    list_of_label += list_of_file_label(0.0100, Kcmin, emin, emax)\n",
    "    list_of_label += list_of_file_label(Kcmax, 2.2000, emin, emax)\n",
    "\n",
    "    number_of_files = len(list_of_label)\n",
    "    number_of_total = number_of_files * size_of_ensemble\n",
    "\n",
    "    labels = tf.data.Dataset.from_tensor_slices(list_of_label).interleave(tf.data.TextLineDataset, cycle_length = number_of_files, num_parallel_calls = tf.data.experimental.AUTOTUNE)\n",
    "    images = tf.data.Dataset.from_tensor_slices(list_of_image).interleave(tf.data.TextLineDataset, cycle_length = number_of_files, num_parallel_calls = tf.data.experimental.AUTOTUNE)\n",
    "    dataset = tf.data.Dataset.zip((images, labels))\n",
    "\n",
    "    # split training and validation\n",
    "    number_of_train = int(number_of_total * 0.9)\n",
    "    number_of_valid = number_of_total - number_of_train\n",
    "    dataset_valid = dataset.take(number_of_valid)\n",
    "    dataset_train = dataset.skip(number_of_valid)\n",
    "    \n",
    "    # repeat and shuffle\n",
    "    dataset_train = dataset_train.shuffle(SHUFFLE_BUFFER_SIZE).repeat()\n",
    "    dataset_valid = dataset_valid.shuffle(SHUFFLE_BUFFER_SIZE).repeat()\n",
    "\n",
    "    # map and cache\n",
    "#     @tf.function\n",
    "    def decorder(image, label):\n",
    "        image = tf.strings.split(image)\n",
    "        image = tf.strings.to_number(image, out_type = tf.float32)\n",
    "        label = tf.strings.split(label)\n",
    "        label = tf.strings.to_number(label, out_type = tf.float32)\n",
    "        def up(): return tf.constant([1, 0], dtype = tf.int64)\n",
    "        def down(): return tf.constant([0, 1], dtype = tf.int64)\n",
    "        label = tf.cond(label[0] > Kc, up, down)\n",
    "        return image, label\n",
    "    \n",
    "    dataset_train = dataset_train.map(decorder, num_parallel_calls = tf.data.experimental.AUTOTUNE)\n",
    "    dataset_valid = dataset_valid.map(decorder, num_parallel_calls = tf.data.experimental.AUTOTUNE)\n",
    "\n",
    "    # batch and prefetch\n",
    "    dataset_train = dataset_train.batch(BATCH_SIZE, drop_remainder = True).prefetch(buffer_size = tf.data.experimental.AUTOTUNE)\n",
    "    dataset_valid = dataset_valid.batch(BATCH_SIZE, drop_remainder = True).prefetch(buffer_size = tf.data.experimental.AUTOTUNE)\n",
    "    \n",
    "    return dataset_train, dataset_valid, number_of_train, number_of_valid\n"
   ]
  },
  {
   "cell_type": "markdown",
   "metadata": {},
   "source": [
    "## Make dataset for test"
   ]
  },
  {
   "cell_type": "code",
   "execution_count": 9,
   "metadata": {},
   "outputs": [],
   "source": [
    "def make_dataset_test(size_of_ensemble, Kc, Kmin, Kmax, emin, emax):\n",
    "    list_of_image = list_of_file_image(Kmin, Kmax, emin, emax)\n",
    "    list_of_label = list_of_file_label(Kmin, Kmax, emin, emax)\n",
    "\n",
    "    number_of_files = len(list_of_label)\n",
    "    number_of_total = number_of_files * size_of_ensemble\n",
    "\n",
    "    labels = tf.data.Dataset.from_tensor_slices(list_of_label).interleave(tf.data.TextLineDataset, cycle_length = number_of_files, num_parallel_calls = tf.data.experimental.AUTOTUNE)\n",
    "    images = tf.data.Dataset.from_tensor_slices(list_of_image).interleave(tf.data.TextLineDataset, cycle_length = number_of_files, num_parallel_calls = tf.data.experimental.AUTOTUNE)\n",
    "\n",
    "\n",
    "    # shuffle and repeat \n",
    "    dataset = tf.data.Dataset.zip((images, labels))\n",
    "    dataset = dataset.shuffle(SHUFFLE_BUFFER_SIZE).repeat()\n",
    "\n",
    "    # map and cache\n",
    "#     @tf.function\n",
    "    def decorder(image, label):\n",
    "        image = tf.strings.split(image)\n",
    "        image = tf.strings.to_number(image, out_type = tf.float32)\n",
    "        label = tf.strings.split(label)\n",
    "        label = tf.strings.to_number(label, out_type = tf.float32)\n",
    "        def up(): return tf.constant([1, 0], dtype = tf.int64)\n",
    "        def down(): return tf.constant([0, 1], dtype = tf.int64)\n",
    "        label = tf.cond(label[0] > Kc, up, down)\n",
    "        return image, label\n",
    "    \n",
    "    dataset = dataset.map(decorder, num_parallel_calls = tf.data.experimental.AUTOTUNE)\n",
    "\n",
    "    # batch and prefetch\n",
    "    dataset = dataset.batch(BATCH_SIZE, drop_remainder = True).prefetch(buffer_size = tf.data.experimental.AUTOTUNE)\n",
    "    \n",
    "    return dataset, number_of_total\n"
   ]
  },
  {
   "cell_type": "markdown",
   "metadata": {},
   "source": [
    "---\n",
    "# Train model"
   ]
  },
  {
   "cell_type": "markdown",
   "metadata": {},
   "source": [
    "## Call model "
   ]
  },
  {
   "cell_type": "code",
   "execution_count": 10,
   "metadata": {},
   "outputs": [],
   "source": [
    "model = make_model(LENGTH, LABEL)\n"
   ]
  },
  {
   "cell_type": "markdown",
   "metadata": {},
   "source": [
    "## Print stucture of the model "
   ]
  },
  {
   "cell_type": "code",
   "execution_count": 11,
   "metadata": {},
   "outputs": [
    {
     "data": {
      "image/png": "[encoded data removed]",
      "text/plain": [
       "<IPython.core.display.Image object>"
      ]
     },
     "execution_count": 11,
     "metadata": {},
     "output_type": "execute_result"
    }
   ],
   "source": [
    "struct = '{DIR_SAVE}/Test_{label:d}_struct.png'\n",
    "\n",
    "tf.keras.utils.plot_model(model, to_file = struct.format(DIR_SAVE = dir_save.format(path = PATH, N = LENGTH), label = LABEL), show_shapes = True, show_layer_names = False, rankdir = 'LR')"
   ]
  },
  {
   "cell_type": "markdown",
   "metadata": {},
   "source": [
    "## Load training dataset"
   ]
  },
  {
   "cell_type": "code",
   "execution_count": 12,
   "metadata": {},
   "outputs": [],
   "source": [
    "dataset_train, dataset_valid, number_of_train, number_of_valid = make_dataset_train(10000, KC, KC_MIN, KC_MAX, 1, 2)"
   ]
  },
  {
   "cell_type": "markdown",
   "metadata": {},
   "source": [
    "## Consume training dataset"
   ]
  },
  {
   "cell_type": "code",
   "execution_count": 13,
   "metadata": {},
   "outputs": [
    {
     "name": "stdout",
     "output_type": "stream",
     "text": [
      "Train for 25380 steps, validate for 2820 steps\n",
      "Epoch 1/2\n",
      "25380/25380 [==============================] - 637s 25ms/step - loss: 0.1652 - accuracy: 0.9295 - val_loss: 2.9625e-04 - val_accuracy: 0.9999\n",
      "Epoch 2/2\n",
      "25380/25380 [==============================] - 483s 19ms/step - loss: 6.5204e-04 - accuracy: 0.9998 - val_loss: 1.8222e-04 - val_accuracy: 1.0000\n"
     ]
    }
   ],
   "source": [
    "history = model.fit(dataset_train, verbose = 1, epochs = 2, steps_per_epoch = int(number_of_train / BATCH_SIZE), validation_data = dataset_valid, validation_steps = int(number_of_valid / BATCH_SIZE))\n"
   ]
  },
  {
   "cell_type": "code",
   "execution_count": null,
   "metadata": {},
   "outputs": [],
   "source": []
  },
  {
   "cell_type": "code",
   "execution_count": null,
   "metadata": {},
   "outputs": [],
   "source": []
  },
  {
   "cell_type": "markdown",
   "metadata": {},
   "source": [
    "## With earlystop (optional)"
   ]
  },
  {
   "cell_type": "code",
   "execution_count": 14,
   "metadata": {},
   "outputs": [],
   "source": [
    "# earlystop_callbacks = [tf.keras.callbacks.EarlyStopping(monitor = 'val_loss', patience = 40, restore_best_weights = True)]\n",
    "# history = model.fit(dataset_train, verbose = 0, epochs = 400, steps_per_epoch = int(number_of_train / BATCH_SIZE), validation_data = dataset_valid, validation_steps = int(number_of_valid / BATCH_SIZE), callbacks = earlystop_callbacks)\n"
   ]
  },
  {
   "cell_type": "markdown",
   "metadata": {},
   "source": [
    "## Print history"
   ]
  },
  {
   "cell_type": "code",
   "execution_count": 15,
   "metadata": {},
   "outputs": [],
   "source": [
    "def plot_history(history, filename):\n",
    "    hist = pd.DataFrame(history.history)\n",
    "    hist['epoch'] = history.epoch\n",
    "\n",
    "    plt.clf()\n",
    "    plt.subplot(2, 1, 1)\n",
    "    plt.xlabel('Epoch')\n",
    "    plt.ylabel('Accuracy')\n",
    "    plt.plot(hist['epoch'], hist['accuracy'], label='Train')\n",
    "    plt.plot(hist['epoch'], hist['val_accuracy'], label = 'Validation')\n",
    "    plt.legend()\n",
    "    plt.show()\n",
    "\n",
    "    plt.subplot(2, 1, 2)\n",
    "    plt.xlabel('Epoch')\n",
    "    plt.ylabel('loss')\n",
    "    plt.plot(hist['epoch'], hist['loss'], label='Train')\n",
    "    plt.plot(hist['epoch'], hist['val_loss'], label = 'Validation')\n",
    "    plt.legend()\n",
    "\n",
    "    plt.tight_layout()\n",
    "    plt.savefig(filename)\n",
    "\n",
    "\n"
   ]
  },
  {
   "cell_type": "code",
   "execution_count": 16,
   "metadata": {},
   "outputs": [
    {
     "data": {
      "image/png": "[encoded data removed]",
      "text/plain": [
       "<Figure size 432x288 with 1 Axes>"
      ]
     },
     "metadata": {
      "needs_background": "light"
     },
     "output_type": "display_data"
    },
    {
     "data": {
      "image/png": "[encoded data removed]",
      "text/plain": [
       "<Figure size 432x288 with 1 Axes>"
      ]
     },
     "metadata": {
      "needs_background": "light"
     },
     "output_type": "display_data"
    }
   ],
   "source": [
    "train_history = '{DIR_SAVE}/Test_{label:d}_history.pdf'\n",
    "plot_history(history, train_history.format(DIR_SAVE = dir_save.format(path = PATH, N = LENGTH), label = LABEL))\n",
    "\n"
   ]
  },
  {
   "cell_type": "markdown",
   "metadata": {},
   "source": [
    "## Save model"
   ]
  },
  {
   "cell_type": "code",
   "execution_count": 17,
   "metadata": {},
   "outputs": [
    {
     "name": "stdout",
     "output_type": "stream",
     "text": [
      "WARNING:tensorflow:From /usr/lib/python3.7/site-packages/tensorflow_core/python/ops/resource_variable_ops.py:1781: calling BaseResourceVariable.__init__ (from tensorflow.python.ops.resource_variable_ops) with constraint is deprecated and will be removed in a future version.\n",
      "Instructions for updating:\n",
      "If using Keras pass *_constraint arguments to layers.\n",
      "INFO:tensorflow:Assets written to: /pds/pds151/ckj/MLKM/MLKM_Discriminator/saves/N100/Test_0_save/assets\n"
     ]
    }
   ],
   "source": [
    "save = '{DIR_SAVE}/Test_{label:d}_save'\n",
    "if not os.path.exists(save.format(DIR_SAVE = dir_save.format(path = PATH, N = LENGTH), label = LABEL)):\n",
    "    os.mkdir(save.format(DIR_SAVE = dir_save.format(path = PATH, N = LENGTH), label = LABEL))\n",
    "\n",
    "    \n",
    "model.save(save.format(DIR_SAVE = dir_save.format(path = PATH, N = LENGTH), label = LABEL))\n",
    "\n"
   ]
  },
  {
   "cell_type": "markdown",
   "metadata": {},
   "source": [
    "---\n",
    "# Test model"
   ]
  },
  {
   "cell_type": "markdown",
   "metadata": {},
   "source": [
    "## Predict for test dataset"
   ]
  },
  {
   "cell_type": "code",
   "execution_count": 18,
   "metadata": {},
   "outputs": [],
   "source": [
    "outputs = np.empty((220, 3))\n",
    "for i in range(220):\n",
    "    K = 0.0100 + 0.0100 * i\n",
    "    dataset, number_of_total = make_dataset_test(10000, KC, K, K, 1, 2)\n",
    "    output = tf.reduce_mean(model.predict(dataset, steps = int(number_of_total / BATCH_SIZE)), 0)\n",
    "    outputs[i, 0] = K\n",
    "    outputs[i, 1] = output.numpy()[0]\n",
    "    outputs[i, 2] = output.numpy()[1]\n",
    "\n"
   ]
  },
  {
   "cell_type": "markdown",
   "metadata": {},
   "source": [
    "## Save outputs"
   ]
  },
  {
   "cell_type": "code",
   "execution_count": 19,
   "metadata": {},
   "outputs": [],
   "source": [
    "dat = '{DIR_SAVE}/Test_{label:d}_data.dat'\n",
    "np.savetxt(dat.format(DIR_SAVE = dir_save.format(path = PATH, N = LENGTH), label = LABEL), outputs, fmt = \"%f\")\n",
    "\n"
   ]
  },
  {
   "cell_type": "markdown",
   "metadata": {},
   "source": [
    "## Print outputs"
   ]
  },
  {
   "cell_type": "code",
   "execution_count": 20,
   "metadata": {},
   "outputs": [],
   "source": [
    "def plot_outputs(outputs, Kc, Kcmin, Kcmax, filename):\n",
    "    plt.clf()\n",
    "    plt.xlabel('K')\n",
    "    plt.ylabel('output')\n",
    "    plt.axvspan(0.0100, Kcmin, color = 'C0', alpha = 0.3)\n",
    "    plt.axvspan(Kcmax, 2.2000, color = 'C3', alpha = 0.3)\n",
    "    plt.axvline(x = Kc, color = 'C1', linestyle = ':')\n",
    "    plt.axvline(x = (KC_MIN + KC_MAX) * 0.5, color = 'C3', linestyle = ':')\n",
    "    plt.axhline(y = 0.5, color = 'C2', linestyle = ':')\n",
    "    plt.plot(outputs[:,0], outputs[:,1], label = 'output 1', color = 'C4')\n",
    "    plt.plot(outputs[:,0], outputs[:,2], label = 'output 2', color = 'C5')\n",
    "    plt.legend()\n",
    "    plt.savefig(filename)"
   ]
  },
  {
   "cell_type": "code",
   "execution_count": 21,
   "metadata": {},
   "outputs": [
    {
     "data": {
      "image/png": "[encoded data removed]",
      "text/plain": [
       "<Figure size 432x288 with 1 Axes>"
      ]
     },
     "metadata": {
      "needs_background": "light"
     },
     "output_type": "display_data"
    }
   ],
   "source": [
    "fig = '{DIR_SAVE}/Test_{label:d}_test.pdf'\n",
    "\n",
    "plot_outputs(outputs, KC, KC_MIN, KC_MAX, fig.format(DIR_SAVE = dir_save.format(path = PATH, N = LENGTH), label = LABEL))\n"
   ]
  },
  {
   "cell_type": "code",
   "execution_count": null,
   "metadata": {},
   "outputs": [],
   "source": []
  },
  {
   "cell_type": "code",
   "execution_count": null,
   "metadata": {},
   "outputs": [],
   "source": []
  },
  {
   "cell_type": "code",
   "execution_count": null,
   "metadata": {},
   "outputs": [],
   "source": []
  },
  {
   "cell_type": "code",
   "execution_count": null,
   "metadata": {},
   "outputs": [],
   "source": []
  },
  {
   "cell_type": "code",
   "execution_count": null,
   "metadata": {},
   "outputs": [],
   "source": []
  },
  {
   "cell_type": "code",
   "execution_count": null,
   "metadata": {},
   "outputs": [],
   "source": []
  },
  {
   "cell_type": "code",
   "execution_count": null,
   "metadata": {},
   "outputs": [],
   "source": []
  },
  {
   "cell_type": "code",
   "execution_count": null,
   "metadata": {},
   "outputs": [],
   "source": []
  },
  {
   "cell_type": "code",
   "execution_count": null,
   "metadata": {},
   "outputs": [],
   "source": []
  },
  {
   "cell_type": "code",
   "execution_count": null,
   "metadata": {},
   "outputs": [],
   "source": []
  },
  {
   "cell_type": "code",
   "execution_count": null,
   "metadata": {},
   "outputs": [],
   "source": []
  },
  {
   "cell_type": "code",
   "execution_count": null,
   "metadata": {},
   "outputs": [],
   "source": []
  },
  {
   "cell_type": "code",
   "execution_count": null,
   "metadata": {},
   "outputs": [],
   "source": []
  }
 ],
 "metadata": {
  "kernelspec": {
   "display_name": "Python 3",
   "language": "python",
   "name": "python3"
  },
  "language_info": {
   "codemirror_mode": {
    "name": "ipython",
    "version": 3
   },
   "file_extension": ".py",
   "mimetype": "text/x-python",
   "name": "python",
   "nbconvert_exporter": "python",
   "pygments_lexer": "ipython3",
   "version": "3.8.3"
  }
 },
 "nbformat": 4,
 "nbformat_minor": 4
}
